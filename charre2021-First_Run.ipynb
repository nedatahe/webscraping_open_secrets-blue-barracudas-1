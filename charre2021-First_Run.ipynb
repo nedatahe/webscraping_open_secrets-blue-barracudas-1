{
 "cells": [
  {
   "cell_type": "markdown",
   "id": "5eb5cdef",
   "metadata": {},
   "source": [
    "# An Analysis of Political Contributions During the 2020 House of Representatives Election\n",
    "\n",
    "In this part, you will obtain as much data as you can on the campaign contributions received by each candidate. This data is available through the website https://www.opensecrets.org/. At the end of the project, your group will give a presentation of your findings."
   ]
  },
  {
   "cell_type": "markdown",
   "id": "abca94a5",
   "metadata": {},
   "source": [
    "1. Start by scraping the data from the summary page for Tennessee's 2nd District, which is available at https://www.opensecrets.org/races/summary?cycle=2020&id=TN02&spec=N.\n",
    "    * The data that we want is contained in the \"Total Raised and Spent\" table.\n",
    "    * Make a DataFrame showing, for each candidate:\n",
    "        * the candidate's name\n",
    "        * the candidate's party\n",
    "        * state\n",
    "        * district number\n",
    "        * whether the candidate was an incumbent\n",
    "        * whether the candidate won the race\n",
    "        * the total amount raised by that candidate (as a numeric variable)\n",
    "        * the total amount spent by the candidate (as a numeric variable)"
   ]
  },
  {
   "cell_type": "code",
   "execution_count": 1,
   "id": "d1e74bf3",
   "metadata": {},
   "outputs": [],
   "source": [
    "import requests\n",
    "import pandas as pd\n",
    "from bs4 import BeautifulSoup as BS\n",
    "import re"
   ]
  },
  {
   "cell_type": "code",
   "execution_count": 2,
   "id": "dbef95e6",
   "metadata": {},
   "outputs": [
    {
     "data": {
      "text/html": [
       "<div>\n",
       "<style scoped>\n",
       "    .dataframe tbody tr th:only-of-type {\n",
       "        vertical-align: middle;\n",
       "    }\n",
       "\n",
       "    .dataframe tbody tr th {\n",
       "        vertical-align: top;\n",
       "    }\n",
       "\n",
       "    .dataframe thead th {\n",
       "        text-align: right;\n",
       "    }\n",
       "</style>\n",
       "<table border=\"1\" class=\"dataframe\">\n",
       "  <thead>\n",
       "    <tr style=\"text-align: right;\">\n",
       "      <th></th>\n",
       "      <th>Name</th>\n",
       "      <th>Party</th>\n",
       "      <th>Incumbent</th>\n",
       "      <th>Winner</th>\n",
       "      <th>State</th>\n",
       "      <th>District</th>\n",
       "      <th>Raised</th>\n",
       "      <th>Spent</th>\n",
       "    </tr>\n",
       "  </thead>\n",
       "  <tbody>\n",
       "    <tr>\n",
       "      <th>0</th>\n",
       "      <td>Tim Burchett</td>\n",
       "      <td>(R)</td>\n",
       "      <td>True</td>\n",
       "      <td>True</td>\n",
       "      <td>TN</td>\n",
       "      <td>02</td>\n",
       "      <td>1336276</td>\n",
       "      <td>878488</td>\n",
       "    </tr>\n",
       "    <tr>\n",
       "      <th>1</th>\n",
       "      <td>Renee Hoyos</td>\n",
       "      <td>(D)</td>\n",
       "      <td>False</td>\n",
       "      <td>False</td>\n",
       "      <td>TN</td>\n",
       "      <td>02</td>\n",
       "      <td>812784</td>\n",
       "      <td>816793</td>\n",
       "    </tr>\n",
       "  </tbody>\n",
       "</table>\n",
       "</div>"
      ],
      "text/plain": [
       "           Name Party Incumbent Winner State District   Raised   Spent\n",
       "0  Tim Burchett   (R)      True   True    TN       02  1336276  878488\n",
       "1   Renee Hoyos   (D)     False  False    TN       02   812784  816793"
      ]
     },
     "execution_count": 2,
     "metadata": {},
     "output_type": "execute_result"
    }
   ],
   "source": [
    "URL = 'https://www.opensecrets.org/races/summary?cycle=2020&id=TN02&spec=N'\n",
    "\n",
    "response = requests.get(URL)\n",
    "soup = BS(response.text)\n",
    "\n",
    "second_district = pd.read_html(str(soup.find('table', attrs = {'class' : 'DataTable'})))[0]\n",
    "second_district['Name'] = (\n",
    "    second_district['Candidate'].\\\n",
    "    str.extract(r'([A-Za-z]+\\s+[A-Za-z]+)\\s', expand = True)\n",
    ")\n",
    "second_district['Party'] = (\n",
    "    second_district['Candidate'].\\\n",
    "    str.extract(r'(\\([A-Z]\\))', expand = True)\n",
    ")\n",
    "\n",
    "incumbent = re.compile(r'\\s(Incumbent)')\n",
    "second_district['Incumbent'] = ''\n",
    "for i in second_district['Candidate']:\n",
    "    if incumbent.search(i):\n",
    "        second_district['Incumbent'].loc[second_district['Candidate'] == i] = True\n",
    "    else:\n",
    "        second_district['Incumbent'].loc[second_district['Candidate'] == i] = False\n",
    "\n",
    "winner = re.compile(r'\\s(Winner)')\n",
    "second_district['Winner'] = ''\n",
    "for i in second_district['Candidate']:\n",
    "    if winner.search(i):\n",
    "        second_district['Winner'].loc[second_district['Candidate'] == i] = True\n",
    "    else:\n",
    "        second_district['Winner'].loc[second_district['Candidate'] == i] = False\n",
    "        \n",
    "second_district = (\n",
    "    second_district.drop(columns = ['Candidate', 'Cash on Hand', 'Last Report'])\n",
    ")\n",
    "\n",
    "second_district['Raised'] = (\n",
    "    second_district['Raised'].str.replace(',', '', regex = False).str.replace('$', '', regex = False).astype('int64')\n",
    ")\n",
    "second_district['Spent'] = (\n",
    "    second_district['Spent'].str.replace(',', '', regex = False).str.replace('$', '', regex = False).astype('int64')\n",
    ")\n",
    "\n",
    "homelink = str(soup.find('link', href=True))\n",
    "state = re.compile(r'id=([A-Z]+)\\d*')\n",
    "state = state.search(homelink)\n",
    "second_district['State'] = state.group(1)\n",
    "district = re.compile(r'id=[A-Z]+(\\d*)')\n",
    "district = district.search(homelink)\n",
    "second_district['District'] = district.group(1)\n",
    "\n",
    "cols = second_district.columns.tolist()\n",
    "cols = cols[2:len(cols)+1] + cols [0:2]\n",
    "second_district = second_district[cols]\n",
    "second_district"
   ]
  },
  {
   "cell_type": "markdown",
   "id": "6793e19e",
   "metadata": {},
   "source": [
    "2. Once you have working code for Tennessee's 2nd District, expand on your code to capture all of Tennessee's districts."
   ]
  },
  {
   "cell_type": "markdown",
   "id": "f3bccbd5",
   "metadata": {},
   "source": [
    "3. Once you have working code for all of Tennessee's districts, expand on it to capture all states and districts. The number of representatives each state has can be found in a table on this page: https://www.britannica.com/topic/United-States-House-of-Representatives-Seats-by-State-1787120"
   ]
  },
  {
   "cell_type": "markdown",
   "id": "3fd4a737",
   "metadata": {},
   "source": [
    "4. Using your scraped data, investigates different relationships between candidates and the amount of money they raised. Here are some suggestions to get you started, but feel free to pose you own questions or do additional exploration:  \n",
    "    a. How often does the candidate who raised more money win a race?  \n",
    "    b. How often does the candidate who spent more money win a race?  \n",
    "    c. Does the difference between either money raised or money spent seem to influence the likelihood of a candidate winning a race?  \n",
    "    d. How often does the incumbent candidate win a race?  \n",
    "    e. Can you detect any relationship between amount of money raised and the incumbent status of a candidate?"
   ]
  },
  {
   "cell_type": "markdown",
   "id": "7247ca25",
   "metadata": {},
   "source": [
    "### Bonus Questions:"
   ]
  },
  {
   "cell_type": "markdown",
   "id": "cf12602a",
   "metadata": {},
   "source": [
    "If you complete all of the above, you can attempt these challenging bonus questions."
   ]
  },
  {
   "cell_type": "markdown",
   "id": "c6efbeba",
   "metadata": {},
   "source": [
    "Open Secrets also gives a detailed breakdown of contributions by source. For example, for Tennessee's second district, this is located at https://www.opensecrets.org/races/candidates?cycle=2020&id=TN02&spec=N"
   ]
  },
  {
   "cell_type": "markdown",
   "id": "b953f664",
   "metadata": {},
   "source": [
    "Scrape these pages to get information on contributions by source. See if you can find anything interesting in terms of the source of contributions. Some examples to get you started:\n",
    "* What does the overall distribution of funding sources look like?\n",
    "* Is there any detectable difference in contribution sources between Democrat and Republican candidates?\n",
    "* Do the funding sources for either the winning candidate or incumbent candidate differ from the other candidates?"
   ]
  }
 ],
 "metadata": {
  "kernelspec": {
   "display_name": "Python 3 (ipykernel)",
   "language": "python",
   "name": "python3"
  },
  "language_info": {
   "codemirror_mode": {
    "name": "ipython",
    "version": 3
   },
   "file_extension": ".py",
   "mimetype": "text/x-python",
   "name": "python",
   "nbconvert_exporter": "python",
   "pygments_lexer": "ipython3",
   "version": "3.8.11"
  }
 },
 "nbformat": 4,
 "nbformat_minor": 5
}
