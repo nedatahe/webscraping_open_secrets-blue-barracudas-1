{
 "cells": [
  {
   "cell_type": "code",
   "execution_count": null,
   "id": "d2b0328b",
   "metadata": {},
   "outputs": [],
   "source": [
    "from lxml import html\n",
    "import requests\n",
    "import pandas as pd\n",
    "import time\n",
    "import re"
   ]
  },
  {
   "cell_type": "code",
   "execution_count": null,
   "id": "353d6275",
   "metadata": {},
   "outputs": [],
   "source": [
    "# Pull out all CIDs and congressmembers names from webpage and create dataframe with both.\n",
    "page = requests.get('https://www.opensecrets.org/members-of-congress/members-list?cong_no=117&cycle=2020')\n",
    "webpage = html.fromstring(page.content)\n",
    "\n",
    "list_of_hrefs = webpage.xpath(\"//a/@href\")\n",
    "list_of_names = webpage.xpath(\"//a/text()\")\n",
    "culled_href_list = []\n",
    "cid = re.compile(r'(N\\d+)')\n",
    "for i in list_of_hrefs:\n",
    "    if 'summary?cid=' in i:\n",
    "        cid_found = cid.search(i)\n",
    "        culled_href_list.append(cid_found.group(1))\n",
    "list_of_names = list_of_names[list_of_names.index('Abraham, Ralph'):list_of_names.index('Zeldin, Lee')+1]\n",
    "list_of_names = [str(i) for i in list_of_names]\n",
    "list_of_names = [(j[j.index(','):] + ' ' + j[:j.index(',')]).replace(', ','') for j in list_of_names]\n",
    "names_and_CIDs = pd.DataFrame(data = culled_href_list, \n",
    "                               index = list_of_names, \n",
    "                               columns = ['CID']).reset_index().rename(columns = {'index':'Name'})"
   ]
  },
  {
   "cell_type": "code",
   "execution_count": null,
   "id": "5312be7d",
   "metadata": {
    "scrolled": false
   },
   "outputs": [],
   "source": [
    "# Read in dataframe for string matching. Easier than Regex in this case.\n",
    "just_states = pd.read_csv(\"Write_Data_Here/reps_plus_abbreviations.csv\", usecols = ['State'])\n",
    "just_states = list(just_states['State'])\n",
    "just_states.extend(['Puerto Rico', 'Virgin Islands', 'Guam', 'American Samoa'])\n",
    "\n",
    "# Create list of parties for string matching.\n",
    "just_parties = ['Republican', 'Democrat', 'Third Party', 'Independent']\n",
    "\n",
    "# Create dataframe and split up other information text into appropriate columns\n",
    "other_info_df = pd.DataFrame(columns = ['Mashed Up','State','Party','Senator or Representative'])\n",
    "list_of_other_information = webpage.xpath(\"//i/text()\")\n",
    "other_info_df['Mashed Up'] = [str(i) for i in list_of_other_information]\n",
    "for i in other_info_df['Mashed Up']:\n",
    "    for j in just_states:\n",
    "        if j in i:\n",
    "            other_info_df['State'].loc[other_info_df['Mashed Up'].isin([i])] = j\n",
    "    for k in just_parties:\n",
    "        if k in i:\n",
    "            other_info_df['Party'].loc[other_info_df['Mashed Up'].isin([i])] = k\n",
    "    if 'District' in i:\n",
    "        other_info_df['Senator or Representative'].loc[other_info_df['Mashed Up'].isin([i])] = 'Representative'\n",
    "    else:\n",
    "        other_info_df['Senator or Representative'].loc[other_info_df['Mashed Up'].isin([i])] = 'Senator'\n",
    "\n",
    "# Concatenate other info dataframe with names and CIDs dataframe.\n",
    "names_and_CIDs = pd.concat(objs = [names_and_CIDs, other_info_df.drop(columns = 'Mashed Up')], axis = 1)"
   ]
  },
  {
   "cell_type": "code",
   "execution_count": null,
   "id": "acf819ef",
   "metadata": {},
   "outputs": [],
   "source": [
    "def use_URL_to_create_df(URL):\n",
    "    \"\"\"Take URL and scrape data relating to contribution sources for a specific candidate, then return a dataframe.\"\"\"\n",
    "    headers = {'User-Agent': 'Mozilla/5.0'}\n",
    "    page = requests.get(URL, headers = headers)\n",
    "    webpage = html.fromstring(page.content)\n",
    "    \n",
    "    def take_out_leading_characters(given_string):\n",
    "        \"\"\"Get rid of leading characters in dataframe for certain values.\"\"\"\n",
    "        return given_string.text_content().replace('\\n\\t\\t\\t\\t\\t\\t\\t\\t','')\n",
    "\n",
    "    def pull_out_table_data(webpage):\n",
    "        \"\"\"Use Xpath to pull out table data from each header, row, etc. Also change $ amounts to int values.\"\"\"\n",
    "        contributor_df = pd.DataFrame()\n",
    "        for table in webpage.xpath('.//table[@class=\"DataTable\"]'):\n",
    "            header = [take_out_leading_characters(table_header) for table_header in table.xpath('//th')]\n",
    "            cells_interlinked = (\n",
    "                [[take_out_leading_characters(table_cell) for table_cell in table_row.xpath('td')]\\\n",
    "                 for table_row in table.xpath('//tr')]\n",
    "            )\n",
    "            cells_interlinked = [row for row in cells_interlinked if len(row) == len(header)] \n",
    "            \n",
    "            contributor_df = pd.DataFrame(cells_interlinked, columns = header)\n",
    "\n",
    "            for i in contributor_df.columns:\n",
    "                if i != 'Rank' and i != 'Contributor':\n",
    "                    contributor_df[i] = (\n",
    "                        contributor_df[i].\\\n",
    "                        str.replace('$','', regex = False).\\\n",
    "                        str.replace(',','', regex = False).\\\n",
    "                        astype('int64')\n",
    "                    )\n",
    "        return contributor_df  \n",
    "    \n",
    "    contributor_df = pull_out_table_data(webpage)\n",
    "    \n",
    "    # Add CID number for merging later.\n",
    "    cid = re.compile(r'(N\\d+)')\n",
    "    cid_found = cid.search(URL)\n",
    "    contributor_df['CID'] = cid_found.group(1)\n",
    "    \n",
    "    return contributor_df"
   ]
  },
  {
   "cell_type": "code",
   "execution_count": null,
   "id": "5ace9605",
   "metadata": {},
   "outputs": [],
   "source": [
    "# Cycle through all links for each member of Congress.\n",
    "for e,i in enumerate(names_and_CIDs['CID']):\n",
    "    source_table = (\n",
    "        use_URL_to_create_df(f'https://www.opensecrets.org/members-of-congress/contributors?cid={i}&cycle=2020&type=C')\n",
    "    )\n",
    "    if e == 0:\n",
    "        all_sources = source_table\n",
    "    else:\n",
    "        all_sources = all_sources.merge(source_table, how = 'outer')\n",
    "    time.sleep(0.05)"
   ]
  },
  {
   "cell_type": "code",
   "execution_count": null,
   "id": "dbbfac9b",
   "metadata": {},
   "outputs": [],
   "source": [
    "top_twenty_sources = all_sources.merge(names_and_CIDs, how = 'outer')\n",
    "top_twenty_sources['Contributor'] = top_twenty_sources['Contributor'].str.strip()\n",
    "top_twenty_sources.to_csv(\"Write_Data_Here/top_twenty_sources.csv\", index = False)"
   ]
  }
 ],
 "metadata": {
  "kernelspec": {
   "display_name": "Python 3 (ipykernel)",
   "language": "python",
   "name": "python3"
  },
  "language_info": {
   "codemirror_mode": {
    "name": "ipython",
    "version": 3
   },
   "file_extension": ".py",
   "mimetype": "text/x-python",
   "name": "python",
   "nbconvert_exporter": "python",
   "pygments_lexer": "ipython3",
   "version": "3.8.12"
  }
 },
 "nbformat": 4,
 "nbformat_minor": 5
}
