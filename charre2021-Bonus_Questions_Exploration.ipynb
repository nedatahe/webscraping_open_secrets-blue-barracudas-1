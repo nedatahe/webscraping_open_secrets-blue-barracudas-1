{
 "cells": [
  {
   "cell_type": "markdown",
   "id": "d2d879f6",
   "metadata": {},
   "source": [
    "### Bonus Questions:"
   ]
  },
  {
   "cell_type": "markdown",
   "id": "f82e45f0",
   "metadata": {},
   "source": [
    "If you complete all of the above, you can attempt these challenging bonus questions."
   ]
  },
  {
   "cell_type": "markdown",
   "id": "0cbe8884",
   "metadata": {},
   "source": [
    "Open Secrets also gives a detailed breakdown of contributions by source. For example, for Tennessee's second district, this is located at https://www.opensecrets.org/races/candidates?cycle=2020&id=TN02&spec=N"
   ]
  },
  {
   "cell_type": "markdown",
   "id": "00ead46f",
   "metadata": {},
   "source": [
    "Scrape these pages to get information on contributions by source. See if you can find anything interesting in terms of the source of contributions. Some examples to get you started:\n",
    "* What does the overall distribution of funding sources look like?\n",
    "* Is there any detectable difference in contribution sources between Democrat and Republican candidates?\n",
    "* Do the funding sources for either the winning candidate or incumbent candidate differ from the other candidates?"
   ]
  }
 ],
 "metadata": {
  "kernelspec": {
   "display_name": "Python 3 (ipykernel)",
   "language": "python",
   "name": "python3"
  },
  "language_info": {
   "codemirror_mode": {
    "name": "ipython",
    "version": 3
   },
   "file_extension": ".py",
   "mimetype": "text/x-python",
   "name": "python",
   "nbconvert_exporter": "python",
   "pygments_lexer": "ipython3",
   "version": "3.8.11"
  }
 },
 "nbformat": 4,
 "nbformat_minor": 5
}
