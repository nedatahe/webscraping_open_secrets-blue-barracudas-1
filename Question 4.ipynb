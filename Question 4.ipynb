{
 "cells": [
  {
   "cell_type": "code",
   "execution_count": 1,
   "id": "06162be0",
   "metadata": {},
   "outputs": [],
   "source": [
    "import pandas as pd\n",
    "import requests\n",
    "from bs4 import BeautifulSoup as BS\n",
    "import re\n",
    "import numpy as np"
   ]
  },
  {
   "cell_type": "markdown",
   "id": "b8e2f9cf",
   "metadata": {},
   "source": [
    "Using your scraped data, investigates different relationships between candidates and the amount of money they raised. Here are some suggestions to get you started, but feel free to pose you own questions or do additional exploration:\n",
    "a. How often does the candidate who raised more money win a race?\n",
    "b. How often does the candidate who spent more money win a race?\n",
    "c. Does the difference between either money raised or money spent seem to influence the likelihood of a candidate winning a race?\n",
    "d. How often does the incumbent candidate win a race?\n",
    "e. Can you detect any relationship between amount of money raised and the incumbent status of a candidate?"
   ]
  },
  {
   "cell_type": "code",
   "execution_count": 2,
   "id": "6cf062ef",
   "metadata": {
    "scrolled": false
   },
   "outputs": [
    {
     "data": {
      "text/html": [
       "<div>\n",
       "<style scoped>\n",
       "    .dataframe tbody tr th:only-of-type {\n",
       "        vertical-align: middle;\n",
       "    }\n",
       "\n",
       "    .dataframe tbody tr th {\n",
       "        vertical-align: top;\n",
       "    }\n",
       "\n",
       "    .dataframe thead th {\n",
       "        text-align: right;\n",
       "    }\n",
       "</style>\n",
       "<table border=\"1\" class=\"dataframe\">\n",
       "  <thead>\n",
       "    <tr style=\"text-align: right;\">\n",
       "      <th></th>\n",
       "      <th>Candidate</th>\n",
       "      <th>Raised</th>\n",
       "      <th>Spent</th>\n",
       "      <th>Cash on Hand</th>\n",
       "      <th>District</th>\n",
       "      <th>State</th>\n",
       "    </tr>\n",
       "  </thead>\n",
       "  <tbody>\n",
       "    <tr>\n",
       "      <th>0</th>\n",
       "      <td>Jerry Carl (R)  • Winner</td>\n",
       "      <td>1971321</td>\n",
       "      <td>1859349</td>\n",
       "      <td>111973</td>\n",
       "      <td>1</td>\n",
       "      <td>AL</td>\n",
       "    </tr>\n",
       "    <tr>\n",
       "      <th>1</th>\n",
       "      <td>James Averhart (D)</td>\n",
       "      <td>80095</td>\n",
       "      <td>78973</td>\n",
       "      <td>1122</td>\n",
       "      <td>1</td>\n",
       "      <td>AL</td>\n",
       "    </tr>\n",
       "    <tr>\n",
       "      <th>2</th>\n",
       "      <td>Barry Moore (R)  • Winner</td>\n",
       "      <td>650807</td>\n",
       "      <td>669368</td>\n",
       "      <td>-13633</td>\n",
       "      <td>2</td>\n",
       "      <td>AL</td>\n",
       "    </tr>\n",
       "    <tr>\n",
       "      <th>3</th>\n",
       "      <td>Phyllis Harvey-Hall (D)</td>\n",
       "      <td>56050</td>\n",
       "      <td>55988</td>\n",
       "      <td>0</td>\n",
       "      <td>2</td>\n",
       "      <td>AL</td>\n",
       "    </tr>\n",
       "    <tr>\n",
       "      <th>4</th>\n",
       "      <td>Mike D Rogers (R)  • Incumbent • Winner</td>\n",
       "      <td>1193111</td>\n",
       "      <td>1218564</td>\n",
       "      <td>502234</td>\n",
       "      <td>3</td>\n",
       "      <td>AL</td>\n",
       "    </tr>\n",
       "  </tbody>\n",
       "</table>\n",
       "</div>"
      ],
      "text/plain": [
       "                                 Candidate   Raised    Spent  Cash on Hand  \\\n",
       "0                 Jerry Carl (R)  • Winner  1971321  1859349        111973   \n",
       "1                       James Averhart (D)    80095    78973          1122   \n",
       "2                Barry Moore (R)  • Winner   650807   669368        -13633   \n",
       "3                  Phyllis Harvey-Hall (D)    56050    55988             0   \n",
       "4  Mike D Rogers (R)  • Incumbent • Winner  1193111  1218564        502234   \n",
       "\n",
       "   District State  \n",
       "0         1    AL  \n",
       "1         1    AL  \n",
       "2         2    AL  \n",
       "3         2    AL  \n",
       "4         3    AL  "
      ]
     },
     "execution_count": 2,
     "metadata": {},
     "output_type": "execute_result"
    }
   ],
   "source": [
    "pd.options.display.max_rows=1000\n",
    "All_states = pd.read_csv('All_states')\n",
    "All_states[['Raised', 'Spent', 'Cash on Hand']] = All_states[['Raised', 'Spent', 'Cash on Hand']].replace('[\\$,]', '', regex=True).astype(int)\n",
    "All_states.drop(columns =['Last Report'], inplace=True)\n",
    "All_states.head()"
   ]
  },
  {
   "cell_type": "code",
   "execution_count": 3,
   "id": "4a5fb1ed",
   "metadata": {
    "scrolled": false
   },
   "outputs": [],
   "source": [
    "# creating column for Incumbent, Winner, Party\n",
    "All_states['Incumbent'] = All_states['Candidate'].str.contains('Incumbent') \n",
    "All_states['Winner'] = All_states['Candidate'].str.contains('Winner') \n",
    "All_states['Party'] = All_states['Candidate'].str.extract(r'\\((.)\\)')\n"
   ]
  },
  {
   "cell_type": "code",
   "execution_count": 4,
   "id": "746067a4",
   "metadata": {
    "scrolled": true
   },
   "outputs": [
    {
     "data": {
      "text/plain": [
       "(894, 9)"
      ]
     },
     "execution_count": 4,
     "metadata": {},
     "output_type": "execute_result"
    }
   ],
   "source": [
    "#split Candidate column\n",
    "All_states['Candidate'] = All_states['Candidate'].str.split(\"(\").str[0]\n",
    "All_states.shape"
   ]
  },
  {
   "cell_type": "code",
   "execution_count": 5,
   "id": "1eb09222",
   "metadata": {},
   "outputs": [
    {
     "data": {
      "text/plain": [
       "371"
      ]
     },
     "execution_count": 5,
     "metadata": {},
     "output_type": "execute_result"
    }
   ],
   "source": [
    "sum(All_states['Incumbent'] & All_states['Winner'])"
   ]
  },
  {
   "cell_type": "code",
   "execution_count": 7,
   "id": "7984e6b0",
   "metadata": {},
   "outputs": [
    {
     "data": {
      "text/html": [
       "<div>\n",
       "<style scoped>\n",
       "    .dataframe tbody tr th:only-of-type {\n",
       "        vertical-align: middle;\n",
       "    }\n",
       "\n",
       "    .dataframe tbody tr th {\n",
       "        vertical-align: top;\n",
       "    }\n",
       "\n",
       "    .dataframe thead th {\n",
       "        text-align: right;\n",
       "    }\n",
       "</style>\n",
       "<table border=\"1\" class=\"dataframe\">\n",
       "  <thead>\n",
       "    <tr style=\"text-align: right;\">\n",
       "      <th></th>\n",
       "      <th>Candidate</th>\n",
       "      <th>Raised</th>\n",
       "      <th>Spent</th>\n",
       "      <th>Cash on Hand</th>\n",
       "      <th>District</th>\n",
       "      <th>State</th>\n",
       "      <th>Incumbent</th>\n",
       "      <th>Winner</th>\n",
       "      <th>Party</th>\n",
       "    </tr>\n",
       "  </thead>\n",
       "  <tbody>\n",
       "    <tr>\n",
       "      <th>0</th>\n",
       "      <td>Jerry Carl</td>\n",
       "      <td>1971321</td>\n",
       "      <td>1859349</td>\n",
       "      <td>111973</td>\n",
       "      <td>1</td>\n",
       "      <td>AL</td>\n",
       "      <td>False</td>\n",
       "      <td>True</td>\n",
       "      <td>R</td>\n",
       "    </tr>\n",
       "    <tr>\n",
       "      <th>1</th>\n",
       "      <td>James Averhart</td>\n",
       "      <td>80095</td>\n",
       "      <td>78973</td>\n",
       "      <td>1122</td>\n",
       "      <td>1</td>\n",
       "      <td>AL</td>\n",
       "      <td>False</td>\n",
       "      <td>False</td>\n",
       "      <td>D</td>\n",
       "    </tr>\n",
       "    <tr>\n",
       "      <th>2</th>\n",
       "      <td>Barry Moore</td>\n",
       "      <td>650807</td>\n",
       "      <td>669368</td>\n",
       "      <td>-13633</td>\n",
       "      <td>2</td>\n",
       "      <td>AL</td>\n",
       "      <td>False</td>\n",
       "      <td>True</td>\n",
       "      <td>R</td>\n",
       "    </tr>\n",
       "    <tr>\n",
       "      <th>3</th>\n",
       "      <td>Phyllis Harvey-Hall</td>\n",
       "      <td>56050</td>\n",
       "      <td>55988</td>\n",
       "      <td>0</td>\n",
       "      <td>2</td>\n",
       "      <td>AL</td>\n",
       "      <td>False</td>\n",
       "      <td>False</td>\n",
       "      <td>D</td>\n",
       "    </tr>\n",
       "    <tr>\n",
       "      <th>4</th>\n",
       "      <td>Mike D Rogers</td>\n",
       "      <td>1193111</td>\n",
       "      <td>1218564</td>\n",
       "      <td>502234</td>\n",
       "      <td>3</td>\n",
       "      <td>AL</td>\n",
       "      <td>True</td>\n",
       "      <td>True</td>\n",
       "      <td>R</td>\n",
       "    </tr>\n",
       "  </tbody>\n",
       "</table>\n",
       "</div>"
      ],
      "text/plain": [
       "              Candidate   Raised    Spent  Cash on Hand  District State  \\\n",
       "0           Jerry Carl   1971321  1859349        111973         1    AL   \n",
       "1       James Averhart     80095    78973          1122         1    AL   \n",
       "2          Barry Moore    650807   669368        -13633         2    AL   \n",
       "3  Phyllis Harvey-Hall     56050    55988             0         2    AL   \n",
       "4        Mike D Rogers   1193111  1218564        502234         3    AL   \n",
       "\n",
       "   Incumbent  Winner Party  \n",
       "0      False    True     R  \n",
       "1      False   False     D  \n",
       "2      False    True     R  \n",
       "3      False   False     D  \n",
       "4       True    True     R  "
      ]
     },
     "execution_count": 7,
     "metadata": {},
     "output_type": "execute_result"
    }
   ],
   "source": [
    "    All_states.head()"
   ]
  },
  {
   "cell_type": "code",
   "execution_count": 8,
   "id": "593ec832",
   "metadata": {},
   "outputs": [
    {
     "data": {
      "text/plain": [
       "0.41498881431767337"
      ]
     },
     "execution_count": 8,
     "metadata": {},
     "output_type": "execute_result"
    }
   ],
   "source": [
    "#Incumbent win rate is 41.50%\n",
    "371/894"
   ]
  },
  {
   "cell_type": "code",
   "execution_count": null,
   "id": "6ede0651",
   "metadata": {},
   "outputs": [],
   "source": [
    "#messing w groupby\n",
    "state_district_subgroup = All_states.groupby(['District', 'State'])\n",
    "for key, value in state_district_subgroup:\n",
    "        print(\"---------\")\n",
    "        group = state_district_subgroup.get_group(key)\n",
    "        print(group)\n",
    "        "
   ]
  },
  {
   "cell_type": "code",
   "execution_count": null,
   "id": "dedec26b",
   "metadata": {},
   "outputs": [],
   "source": [
    "state, frame = next(iter(state_district_subgroup))\n",
    "frame"
   ]
  },
  {
   "cell_type": "code",
   "execution_count": null,
   "id": "930c819a",
   "metadata": {},
   "outputs": [],
   "source": []
  },
  {
   "cell_type": "markdown",
   "id": "f9580616",
   "metadata": {},
   "source": [
    "for each state and district(groupby?), if winner raised more money, True. Winner raised less money, False"
   ]
  },
  {
   "cell_type": "code",
   "execution_count": null,
   "id": "abd393cd",
   "metadata": {},
   "outputs": [],
   "source": [
    "All_states.groupby('State').nunique().iloc[:,-1].to_frame()"
   ]
  },
  {
   "cell_type": "code",
   "execution_count": null,
   "id": "2f137e6d",
   "metadata": {},
   "outputs": [],
   "source": [
    "#86.08% incumbents are winners\n",
    "(All_Winners[All_Winners['Candidate'].str.contains(\"Incumbent\")].count())/(All_Winners[All_Winners['Candidate'].str.contains(\"Winner\")].count())"
   ]
  },
  {
   "cell_type": "code",
   "execution_count": null,
   "id": "7232b842",
   "metadata": {},
   "outputs": [],
   "source": [
    "All_Winners.shape"
   ]
  },
  {
   "cell_type": "code",
   "execution_count": null,
   "id": "a47c4ba0",
   "metadata": {},
   "outputs": [],
   "source": [
    "All_Winners[All_Winners['Candidate'].str.contains(\"Incumbent\")].count()"
   ]
  },
  {
   "cell_type": "code",
   "execution_count": null,
   "id": "80263d52",
   "metadata": {},
   "outputs": [],
   "source": [
    "371/431"
   ]
  },
  {
   "cell_type": "code",
   "execution_count": null,
   "id": "91ffd749",
   "metadata": {},
   "outputs": [],
   "source": []
  }
 ],
 "metadata": {
  "kernelspec": {
   "display_name": "Python 3",
   "language": "python",
   "name": "python3"
  },
  "language_info": {
   "codemirror_mode": {
    "name": "ipython",
    "version": 3
   },
   "file_extension": ".py",
   "mimetype": "text/x-python",
   "name": "python",
   "nbconvert_exporter": "python",
   "pygments_lexer": "ipython3",
   "version": "3.8.8"
  }
 },
 "nbformat": 4,
 "nbformat_minor": 5
}
